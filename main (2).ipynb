{
 "cells": [
  {
   "cell_type": "code",
   "execution_count": null,
   "id": "da850b89-857c-4099-8250-3ae52adff4f4",
   "metadata": {},
   "outputs": [],
   "source": []
  },
  {
   "cell_type": "code",
   "execution_count": 76,
   "id": "5deb6b76-557c-4453-9c49-87a90dbca723",
   "metadata": {},
   "outputs": [],
   "source": [
    "import pandas as pd\n",
    "from pathlib import Path\n",
    "%matplotlib inline\n",
    "\n",
    "file_path = Path('budget_data.csv')\n",
    "\n",
    "budget_data = pd.read_csv('budget_data.csv')\n",
    "\n"
   ]
  },
  {
   "cell_type": "code",
   "execution_count": 77,
   "id": "181fe97e-a6c4-4320-a430-55db6dda4f25",
   "metadata": {},
   "outputs": [
    {
     "data": {
      "text/html": [
       "<div>\n",
       "<style scoped>\n",
       "    .dataframe tbody tr th:only-of-type {\n",
       "        vertical-align: middle;\n",
       "    }\n",
       "\n",
       "    .dataframe tbody tr th {\n",
       "        vertical-align: top;\n",
       "    }\n",
       "\n",
       "    .dataframe thead th {\n",
       "        text-align: right;\n",
       "    }\n",
       "</style>\n",
       "<table border=\"1\" class=\"dataframe\">\n",
       "  <thead>\n",
       "    <tr style=\"text-align: right;\">\n",
       "      <th></th>\n",
       "      <th>Date</th>\n",
       "      <th>Profit/Losses</th>\n",
       "    </tr>\n",
       "  </thead>\n",
       "  <tbody>\n",
       "    <tr>\n",
       "      <th>0</th>\n",
       "      <td>Jan-2010</td>\n",
       "      <td>867884</td>\n",
       "    </tr>\n",
       "    <tr>\n",
       "      <th>1</th>\n",
       "      <td>Feb-2010</td>\n",
       "      <td>984655</td>\n",
       "    </tr>\n",
       "    <tr>\n",
       "      <th>2</th>\n",
       "      <td>Mar-2010</td>\n",
       "      <td>322013</td>\n",
       "    </tr>\n",
       "    <tr>\n",
       "      <th>3</th>\n",
       "      <td>Apr-2010</td>\n",
       "      <td>-69417</td>\n",
       "    </tr>\n",
       "    <tr>\n",
       "      <th>4</th>\n",
       "      <td>May-2010</td>\n",
       "      <td>310503</td>\n",
       "    </tr>\n",
       "  </tbody>\n",
       "</table>\n",
       "</div>"
      ],
      "text/plain": [
       "       Date  Profit/Losses\n",
       "0  Jan-2010         867884\n",
       "1  Feb-2010         984655\n",
       "2  Mar-2010         322013\n",
       "3  Apr-2010         -69417\n",
       "4  May-2010         310503"
      ]
     },
     "execution_count": 77,
     "metadata": {},
     "output_type": "execute_result"
    }
   ],
   "source": [
    "budget_data.head(5)"
   ]
  },
  {
   "cell_type": "code",
   "execution_count": 78,
   "id": "907c8987-1945-4312-8267-7499aa2a59bc",
   "metadata": {},
   "outputs": [
    {
     "data": {
      "text/html": [
       "<div>\n",
       "<style scoped>\n",
       "    .dataframe tbody tr th:only-of-type {\n",
       "        vertical-align: middle;\n",
       "    }\n",
       "\n",
       "    .dataframe tbody tr th {\n",
       "        vertical-align: top;\n",
       "    }\n",
       "\n",
       "    .dataframe thead th {\n",
       "        text-align: right;\n",
       "    }\n",
       "</style>\n",
       "<table border=\"1\" class=\"dataframe\">\n",
       "  <thead>\n",
       "    <tr style=\"text-align: right;\">\n",
       "      <th></th>\n",
       "      <th>Date</th>\n",
       "      <th>Profit/Losses</th>\n",
       "    </tr>\n",
       "  </thead>\n",
       "  <tbody>\n",
       "    <tr>\n",
       "      <th>0</th>\n",
       "      <td>Jan-2010</td>\n",
       "      <td>867884</td>\n",
       "    </tr>\n",
       "    <tr>\n",
       "      <th>1</th>\n",
       "      <td>Feb-2010</td>\n",
       "      <td>984655</td>\n",
       "    </tr>\n",
       "    <tr>\n",
       "      <th>2</th>\n",
       "      <td>Mar-2010</td>\n",
       "      <td>322013</td>\n",
       "    </tr>\n",
       "    <tr>\n",
       "      <th>3</th>\n",
       "      <td>Apr-2010</td>\n",
       "      <td>-69417</td>\n",
       "    </tr>\n",
       "    <tr>\n",
       "      <th>4</th>\n",
       "      <td>May-2010</td>\n",
       "      <td>310503</td>\n",
       "    </tr>\n",
       "    <tr>\n",
       "      <th>...</th>\n",
       "      <td>...</td>\n",
       "      <td>...</td>\n",
       "    </tr>\n",
       "    <tr>\n",
       "      <th>81</th>\n",
       "      <td>Oct-2016</td>\n",
       "      <td>102685</td>\n",
       "    </tr>\n",
       "    <tr>\n",
       "      <th>82</th>\n",
       "      <td>Nov-2016</td>\n",
       "      <td>795914</td>\n",
       "    </tr>\n",
       "    <tr>\n",
       "      <th>83</th>\n",
       "      <td>Dec-2016</td>\n",
       "      <td>60988</td>\n",
       "    </tr>\n",
       "    <tr>\n",
       "      <th>84</th>\n",
       "      <td>Jan-2017</td>\n",
       "      <td>138230</td>\n",
       "    </tr>\n",
       "    <tr>\n",
       "      <th>85</th>\n",
       "      <td>Feb-2017</td>\n",
       "      <td>671099</td>\n",
       "    </tr>\n",
       "  </tbody>\n",
       "</table>\n",
       "<p>86 rows × 2 columns</p>\n",
       "</div>"
      ],
      "text/plain": [
       "        Date  Profit/Losses\n",
       "0   Jan-2010         867884\n",
       "1   Feb-2010         984655\n",
       "2   Mar-2010         322013\n",
       "3   Apr-2010         -69417\n",
       "4   May-2010         310503\n",
       "..       ...            ...\n",
       "81  Oct-2016         102685\n",
       "82  Nov-2016         795914\n",
       "83  Dec-2016          60988\n",
       "84  Jan-2017         138230\n",
       "85  Feb-2017         671099\n",
       "\n",
       "[86 rows x 2 columns]"
      ]
     },
     "execution_count": 78,
     "metadata": {},
     "output_type": "execute_result"
    }
   ],
   "source": [
    "budget_data"
   ]
  },
  {
   "cell_type": "code",
   "execution_count": null,
   "id": "dc5d4fd9-6aec-4446-8729-4818c71684fc",
   "metadata": {},
   "outputs": [],
   "source": []
  },
  {
   "cell_type": "code",
   "execution_count": 79,
   "id": "64950244-3e87-4b5f-9a6b-2797890a39d0",
   "metadata": {},
   "outputs": [
    {
     "data": {
      "text/plain": [
       "86"
      ]
     },
     "execution_count": 79,
     "metadata": {},
     "output_type": "execute_result"
    }
   ],
   "source": [
    "# calculate the total number of months included in the dataset\n",
    "\n",
    "total_months = len(budget_data)\n",
    "total_months"
   ]
  },
  {
   "cell_type": "code",
   "execution_count": 80,
   "id": "434c90c9-6bab-4a99-a473-990fd21ac9d1",
   "metadata": {},
   "outputs": [
    {
     "data": {
      "text/plain": [
       "Index(['Date', 'Profit/Losses'], dtype='object')"
      ]
     },
     "execution_count": 80,
     "metadata": {},
     "output_type": "execute_result"
    }
   ],
   "source": [
    "budget_data.columns\n",
    "\n",
    "# just checking the actual text of the header to copy and paste from here"
   ]
  },
  {
   "cell_type": "code",
   "execution_count": 81,
   "id": "a2dd1a1e-6b2f-4cce-a36b-a0b3f3f4c40a",
   "metadata": {},
   "outputs": [
    {
     "name": "stdout",
     "output_type": "stream",
     "text": [
      "38382578\n"
     ]
    }
   ],
   "source": [
    "# the net total amount of profit losses over the entire period\n",
    "\n",
    "profit_loss_sum = budget_data['Profit/Losses'].sum()\n",
    "print (profit_loss_sum)\n",
    "\n"
   ]
  },
  {
   "cell_type": "code",
   "execution_count": 90,
   "id": "dfcdeae2-1e87-45d9-910f-9551c3b490b2",
   "metadata": {},
   "outputs": [
    {
     "data": {
      "text/html": [
       "<div>\n",
       "<style scoped>\n",
       "    .dataframe tbody tr th:only-of-type {\n",
       "        vertical-align: middle;\n",
       "    }\n",
       "\n",
       "    .dataframe tbody tr th {\n",
       "        vertical-align: top;\n",
       "    }\n",
       "\n",
       "    .dataframe thead th {\n",
       "        text-align: right;\n",
       "    }\n",
       "</style>\n",
       "<table border=\"1\" class=\"dataframe\">\n",
       "  <thead>\n",
       "    <tr style=\"text-align: right;\">\n",
       "      <th></th>\n",
       "      <th>Date</th>\n",
       "      <th>Profit/Losses</th>\n",
       "      <th>Change Per Month</th>\n",
       "    </tr>\n",
       "  </thead>\n",
       "  <tbody>\n",
       "    <tr>\n",
       "      <th>0</th>\n",
       "      <td>Jan-2010</td>\n",
       "      <td>867884</td>\n",
       "      <td>NaN</td>\n",
       "    </tr>\n",
       "    <tr>\n",
       "      <th>1</th>\n",
       "      <td>Feb-2010</td>\n",
       "      <td>984655</td>\n",
       "      <td>116771.0</td>\n",
       "    </tr>\n",
       "    <tr>\n",
       "      <th>2</th>\n",
       "      <td>Mar-2010</td>\n",
       "      <td>322013</td>\n",
       "      <td>-662642.0</td>\n",
       "    </tr>\n",
       "    <tr>\n",
       "      <th>3</th>\n",
       "      <td>Apr-2010</td>\n",
       "      <td>-69417</td>\n",
       "      <td>-391430.0</td>\n",
       "    </tr>\n",
       "    <tr>\n",
       "      <th>4</th>\n",
       "      <td>May-2010</td>\n",
       "      <td>310503</td>\n",
       "      <td>379920.0</td>\n",
       "    </tr>\n",
       "    <tr>\n",
       "      <th>...</th>\n",
       "      <td>...</td>\n",
       "      <td>...</td>\n",
       "      <td>...</td>\n",
       "    </tr>\n",
       "    <tr>\n",
       "      <th>81</th>\n",
       "      <td>Oct-2016</td>\n",
       "      <td>102685</td>\n",
       "      <td>-665765.0</td>\n",
       "    </tr>\n",
       "    <tr>\n",
       "      <th>82</th>\n",
       "      <td>Nov-2016</td>\n",
       "      <td>795914</td>\n",
       "      <td>693229.0</td>\n",
       "    </tr>\n",
       "    <tr>\n",
       "      <th>83</th>\n",
       "      <td>Dec-2016</td>\n",
       "      <td>60988</td>\n",
       "      <td>-734926.0</td>\n",
       "    </tr>\n",
       "    <tr>\n",
       "      <th>84</th>\n",
       "      <td>Jan-2017</td>\n",
       "      <td>138230</td>\n",
       "      <td>77242.0</td>\n",
       "    </tr>\n",
       "    <tr>\n",
       "      <th>85</th>\n",
       "      <td>Feb-2017</td>\n",
       "      <td>671099</td>\n",
       "      <td>532869.0</td>\n",
       "    </tr>\n",
       "  </tbody>\n",
       "</table>\n",
       "<p>86 rows × 3 columns</p>\n",
       "</div>"
      ],
      "text/plain": [
       "        Date  Profit/Losses  Change Per Month\n",
       "0   Jan-2010         867884               NaN\n",
       "1   Feb-2010         984655          116771.0\n",
       "2   Mar-2010         322013         -662642.0\n",
       "3   Apr-2010         -69417         -391430.0\n",
       "4   May-2010         310503          379920.0\n",
       "..       ...            ...               ...\n",
       "81  Oct-2016         102685         -665765.0\n",
       "82  Nov-2016         795914          693229.0\n",
       "83  Dec-2016          60988         -734926.0\n",
       "84  Jan-2017         138230           77242.0\n",
       "85  Feb-2017         671099          532869.0\n",
       "\n",
       "[86 rows x 3 columns]"
      ]
     },
     "execution_count": 90,
     "metadata": {},
     "output_type": "execute_result"
    }
   ],
   "source": [
    "budget_data[\"Change Per Month\"] = budget_data['Profit/Losses'].diff()\n",
    "\n",
    "budget_data"
   ]
  },
  {
   "cell_type": "code",
   "execution_count": 91,
   "id": "0b4716f0-d1f5-4ff2-ab17-f3351189fd00",
   "metadata": {},
   "outputs": [
    {
     "data": {
      "text/plain": [
       "-2315.1176470588234"
      ]
     },
     "execution_count": 91,
     "metadata": {},
     "output_type": "execute_result"
    }
   ],
   "source": [
    "ave_change = change_per_month.mean()\n",
    "ave_change\n",
    "\n",
    "\n"
   ]
  },
  {
   "cell_type": "code",
   "execution_count": 92,
   "id": "99bb09dd-b59b-49b9-96ca-de60a590d7ce",
   "metadata": {
    "tags": []
   },
   "outputs": [
    {
     "data": {
      "text/html": [
       "<div>\n",
       "<style scoped>\n",
       "    .dataframe tbody tr th:only-of-type {\n",
       "        vertical-align: middle;\n",
       "    }\n",
       "\n",
       "    .dataframe tbody tr th {\n",
       "        vertical-align: top;\n",
       "    }\n",
       "\n",
       "    .dataframe thead th {\n",
       "        text-align: right;\n",
       "    }\n",
       "</style>\n",
       "<table border=\"1\" class=\"dataframe\">\n",
       "  <thead>\n",
       "    <tr style=\"text-align: right;\">\n",
       "      <th></th>\n",
       "      <th>Date</th>\n",
       "      <th>Profit/Losses</th>\n",
       "      <th>Change Per Month</th>\n",
       "    </tr>\n",
       "  </thead>\n",
       "  <tbody>\n",
       "    <tr>\n",
       "      <th>0</th>\n",
       "      <td>Jan-2010</td>\n",
       "      <td>867884</td>\n",
       "      <td>NaN</td>\n",
       "    </tr>\n",
       "    <tr>\n",
       "      <th>1</th>\n",
       "      <td>Feb-2010</td>\n",
       "      <td>984655</td>\n",
       "      <td>116771.0</td>\n",
       "    </tr>\n",
       "    <tr>\n",
       "      <th>2</th>\n",
       "      <td>Mar-2010</td>\n",
       "      <td>322013</td>\n",
       "      <td>-662642.0</td>\n",
       "    </tr>\n",
       "    <tr>\n",
       "      <th>3</th>\n",
       "      <td>Apr-2010</td>\n",
       "      <td>-69417</td>\n",
       "      <td>-391430.0</td>\n",
       "    </tr>\n",
       "    <tr>\n",
       "      <th>4</th>\n",
       "      <td>May-2010</td>\n",
       "      <td>310503</td>\n",
       "      <td>379920.0</td>\n",
       "    </tr>\n",
       "    <tr>\n",
       "      <th>5</th>\n",
       "      <td>Jun-2010</td>\n",
       "      <td>522857</td>\n",
       "      <td>212354.0</td>\n",
       "    </tr>\n",
       "    <tr>\n",
       "      <th>6</th>\n",
       "      <td>Jul-2010</td>\n",
       "      <td>1033096</td>\n",
       "      <td>510239.0</td>\n",
       "    </tr>\n",
       "    <tr>\n",
       "      <th>7</th>\n",
       "      <td>Aug-2010</td>\n",
       "      <td>604885</td>\n",
       "      <td>-428211.0</td>\n",
       "    </tr>\n",
       "    <tr>\n",
       "      <th>8</th>\n",
       "      <td>Sep-2010</td>\n",
       "      <td>-216386</td>\n",
       "      <td>-821271.0</td>\n",
       "    </tr>\n",
       "    <tr>\n",
       "      <th>9</th>\n",
       "      <td>Oct-2010</td>\n",
       "      <td>477532</td>\n",
       "      <td>693918.0</td>\n",
       "    </tr>\n",
       "    <tr>\n",
       "      <th>10</th>\n",
       "      <td>Nov-2010</td>\n",
       "      <td>893810</td>\n",
       "      <td>416278.0</td>\n",
       "    </tr>\n",
       "    <tr>\n",
       "      <th>11</th>\n",
       "      <td>Dec-2010</td>\n",
       "      <td>-80353</td>\n",
       "      <td>-974163.0</td>\n",
       "    </tr>\n",
       "    <tr>\n",
       "      <th>12</th>\n",
       "      <td>Jan-2011</td>\n",
       "      <td>779806</td>\n",
       "      <td>860159.0</td>\n",
       "    </tr>\n",
       "    <tr>\n",
       "      <th>13</th>\n",
       "      <td>Feb-2011</td>\n",
       "      <td>-335203</td>\n",
       "      <td>-1115009.0</td>\n",
       "    </tr>\n",
       "    <tr>\n",
       "      <th>14</th>\n",
       "      <td>Mar-2011</td>\n",
       "      <td>697845</td>\n",
       "      <td>1033048.0</td>\n",
       "    </tr>\n",
       "    <tr>\n",
       "      <th>15</th>\n",
       "      <td>Apr-2011</td>\n",
       "      <td>793163</td>\n",
       "      <td>95318.0</td>\n",
       "    </tr>\n",
       "    <tr>\n",
       "      <th>16</th>\n",
       "      <td>May-2011</td>\n",
       "      <td>485070</td>\n",
       "      <td>-308093.0</td>\n",
       "    </tr>\n",
       "    <tr>\n",
       "      <th>17</th>\n",
       "      <td>Jun-2011</td>\n",
       "      <td>584122</td>\n",
       "      <td>99052.0</td>\n",
       "    </tr>\n",
       "    <tr>\n",
       "      <th>18</th>\n",
       "      <td>Jul-2011</td>\n",
       "      <td>62729</td>\n",
       "      <td>-521393.0</td>\n",
       "    </tr>\n",
       "    <tr>\n",
       "      <th>19</th>\n",
       "      <td>Aug-2011</td>\n",
       "      <td>668179</td>\n",
       "      <td>605450.0</td>\n",
       "    </tr>\n",
       "    <tr>\n",
       "      <th>20</th>\n",
       "      <td>Sep-2011</td>\n",
       "      <td>899906</td>\n",
       "      <td>231727.0</td>\n",
       "    </tr>\n",
       "    <tr>\n",
       "      <th>21</th>\n",
       "      <td>Oct-2011</td>\n",
       "      <td>834719</td>\n",
       "      <td>-65187.0</td>\n",
       "    </tr>\n",
       "    <tr>\n",
       "      <th>22</th>\n",
       "      <td>Nov-2011</td>\n",
       "      <td>132003</td>\n",
       "      <td>-702716.0</td>\n",
       "    </tr>\n",
       "    <tr>\n",
       "      <th>23</th>\n",
       "      <td>Dec-2011</td>\n",
       "      <td>309978</td>\n",
       "      <td>177975.0</td>\n",
       "    </tr>\n",
       "    <tr>\n",
       "      <th>24</th>\n",
       "      <td>Jan-2012</td>\n",
       "      <td>-755566</td>\n",
       "      <td>-1065544.0</td>\n",
       "    </tr>\n",
       "    <tr>\n",
       "      <th>25</th>\n",
       "      <td>Feb-2012</td>\n",
       "      <td>1170593</td>\n",
       "      <td>1926159.0</td>\n",
       "    </tr>\n",
       "    <tr>\n",
       "      <th>26</th>\n",
       "      <td>Mar-2012</td>\n",
       "      <td>252788</td>\n",
       "      <td>-917805.0</td>\n",
       "    </tr>\n",
       "    <tr>\n",
       "      <th>27</th>\n",
       "      <td>Apr-2012</td>\n",
       "      <td>1151518</td>\n",
       "      <td>898730.0</td>\n",
       "    </tr>\n",
       "    <tr>\n",
       "      <th>28</th>\n",
       "      <td>May-2012</td>\n",
       "      <td>817256</td>\n",
       "      <td>-334262.0</td>\n",
       "    </tr>\n",
       "    <tr>\n",
       "      <th>29</th>\n",
       "      <td>Jun-2012</td>\n",
       "      <td>570757</td>\n",
       "      <td>-246499.0</td>\n",
       "    </tr>\n",
       "  </tbody>\n",
       "</table>\n",
       "</div>"
      ],
      "text/plain": [
       "        Date  Profit/Losses  Change Per Month\n",
       "0   Jan-2010         867884               NaN\n",
       "1   Feb-2010         984655          116771.0\n",
       "2   Mar-2010         322013         -662642.0\n",
       "3   Apr-2010         -69417         -391430.0\n",
       "4   May-2010         310503          379920.0\n",
       "5   Jun-2010         522857          212354.0\n",
       "6   Jul-2010        1033096          510239.0\n",
       "7   Aug-2010         604885         -428211.0\n",
       "8   Sep-2010        -216386         -821271.0\n",
       "9   Oct-2010         477532          693918.0\n",
       "10  Nov-2010         893810          416278.0\n",
       "11  Dec-2010         -80353         -974163.0\n",
       "12  Jan-2011         779806          860159.0\n",
       "13  Feb-2011        -335203        -1115009.0\n",
       "14  Mar-2011         697845         1033048.0\n",
       "15  Apr-2011         793163           95318.0\n",
       "16  May-2011         485070         -308093.0\n",
       "17  Jun-2011         584122           99052.0\n",
       "18  Jul-2011          62729         -521393.0\n",
       "19  Aug-2011         668179          605450.0\n",
       "20  Sep-2011         899906          231727.0\n",
       "21  Oct-2011         834719          -65187.0\n",
       "22  Nov-2011         132003         -702716.0\n",
       "23  Dec-2011         309978          177975.0\n",
       "24  Jan-2012        -755566        -1065544.0\n",
       "25  Feb-2012        1170593         1926159.0\n",
       "26  Mar-2012         252788         -917805.0\n",
       "27  Apr-2012        1151518          898730.0\n",
       "28  May-2012         817256         -334262.0\n",
       "29  Jun-2012         570757         -246499.0"
      ]
     },
     "execution_count": 92,
     "metadata": {},
     "output_type": "execute_result"
    }
   ],
   "source": [
    "budget_data.head(30)"
   ]
  },
  {
   "cell_type": "code",
   "execution_count": null,
   "id": "f93d2cba-1b2c-4d43-bc3c-182eebbc9a47",
   "metadata": {},
   "outputs": [],
   "source": []
  },
  {
   "cell_type": "code",
   "execution_count": 95,
   "id": "74422f7e-c617-484c-a33b-58509a08d072",
   "metadata": {},
   "outputs": [
    {
     "name": "stdout",
     "output_type": "stream",
     "text": [
      "1926159.0 Feb-2012\n"
     ]
    }
   ],
   "source": [
    "# greatest increase in profits (date and amount) over the entire period\n",
    "max_line = change_per_month.idxmax()\n",
    "increase_date = budget_data['Date'][max_line]\n",
    "greatest_increase = budget_data['Change Per Month'][max_line]\n",
    "\n",
    "print (greatest_increase, date)\n",
    "\n"
   ]
  },
  {
   "cell_type": "code",
   "execution_count": 96,
   "id": "6cce7ab5-eda2-44f4-95bf-22e32ff78fa9",
   "metadata": {},
   "outputs": [
    {
     "data": {
      "text/plain": [
       "25"
      ]
     },
     "execution_count": 96,
     "metadata": {},
     "output_type": "execute_result"
    }
   ],
   "source": [
    "max_line"
   ]
  },
  {
   "cell_type": "code",
   "execution_count": null,
   "id": "f7dccd34-6eed-44bc-ad5c-1a868db65ac3",
   "metadata": {},
   "outputs": [],
   "source": []
  },
  {
   "cell_type": "code",
   "execution_count": 98,
   "id": "b88bedb1-ee9f-45d1-bd3e-dc83a24194df",
   "metadata": {
    "tags": []
   },
   "outputs": [
    {
     "name": "stdout",
     "output_type": "stream",
     "text": [
      "-2196167.0 Feb-2012\n"
     ]
    }
   ],
   "source": [
    "# The greatest decrease in losses (date and amount) over the entire period.\n",
    "\n",
    "min_line = change_per_month.idxmin()\n",
    "decrease_date = budget_data['Date'][min_line]\n",
    "greatest_decrease = budget_data['Change Per Month'][min_line]\n",
    "\n",
    "print (greatest_decrease, date)\n"
   ]
  },
  {
   "cell_type": "code",
   "execution_count": 99,
   "id": "02063b2f-d0c8-40d1-865e-61c0c069b21d",
   "metadata": {},
   "outputs": [
    {
     "name": "stdout",
     "output_type": "stream",
     "text": [
      "----------------------------------------------------------\n",
      "Financial Analysis\n",
      "----------------------------------------------------------\n",
      "Total Months: 86\n",
      "Total Profits: $38382578\n",
      "Average Change: $-2315\n",
      "Greatest Increase in Profits: Feb-2012 ($1926159.0)\n",
      "Greatest Decrease in Profits: Sep-2013 ($-2196167.0)\n",
      "----------------------------------------------------------\n"
     ]
    }
   ],
   "source": [
    "#Print variables\n",
    "\n",
    "\n",
    "print(\"----------------------------------------------------------\")\n",
    "print(\"Financial Analysis\")\n",
    "print(\"----------------------------------------------------------\")\n",
    "print(\"Total Months: \" + str(total_months))\n",
    "print(\"Total Profits: \" + \"$\" + str(profit_loss_sum))\n",
    "print(\"Average Change: \" + \"$\" + str(int(ave_change)))\n",
    "print(\"Greatest Increase in Profits: \" + str(increase_date) + \" ($\" + str(greatest_increase) + \")\")\n",
    "print(\"Greatest Decrease in Profits: \" + str(decrease_date) + \" ($\" + str(greatest_decrease)+ \")\")\n",
    "print(\"----------------------------------------------------------\")"
   ]
  },
  {
   "cell_type": "code",
   "execution_count": null,
   "id": "31d74a78-96bb-476a-a923-16fec9c6bb1c",
   "metadata": {},
   "outputs": [],
   "source": []
  },
  {
   "cell_type": "code",
   "execution_count": null,
   "id": "44ea5b22-0607-414c-ba5b-4eaffa5dc757",
   "metadata": {},
   "outputs": [],
   "source": [
    "f = open('Analysis', 'w')\n",
    "f.write(\"----------------------------------------------------------\")\n",
    "f.write(\"Financial Analysis\")\n",
    "f.write(\"----------------------------------------------------------\")\n",
    "f.write(\"Total Months: \" + str(total_months))\n",
    "f.write(\"Total Profits: \" + \"$\" + str(profit_loss_sum))\n",
    "f.write(\"Average Change: \" + \"$\" + str(int(ave_change)))\n",
    "f.write(\"Greatest Increase in Profits: \" + str(increase_date) + \" ($\" + str(greatest_increase) + \")\")\n",
    "f.write(\"Greatest Decrease in Profits: \" + str(decrease_date) + \" ($\" + str(greatest_decrease)+ \")\")\n",
    "f.write(\"----------------------------------------------------------\")\n",
    "f.close()\n",
    "\n",
    "\n",
    "\n",
    "\n"
   ]
  },
  {
   "cell_type": "code",
   "execution_count": null,
   "id": "b158efc9-97db-423c-9611-bcd5d8c92fb9",
   "metadata": {},
   "outputs": [],
   "source": []
  },
  {
   "cell_type": "code",
   "execution_count": null,
   "id": "2544970c-01c2-4998-b63c-9ea1dfecf96b",
   "metadata": {},
   "outputs": [],
   "source": []
  }
 ],
 "metadata": {
  "kernelspec": {
   "display_name": "Python 3 (ipykernel)",
   "language": "python",
   "name": "python3"
  },
  "language_info": {
   "codemirror_mode": {
    "name": "ipython",
    "version": 3
   },
   "file_extension": ".py",
   "mimetype": "text/x-python",
   "name": "python",
   "nbconvert_exporter": "python",
   "pygments_lexer": "ipython3",
   "version": "3.7.11"
  }
 },
 "nbformat": 4,
 "nbformat_minor": 5
}
